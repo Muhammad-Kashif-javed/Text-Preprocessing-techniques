{
  "nbformat": 4,
  "nbformat_minor": 0,
  "metadata": {
    "colab": {
      "provenance": [],
      "authorship_tag": "ABX9TyMAVbmj0U+H9x4tmfLFqp/k",
      "include_colab_link": true
    },
    "kernelspec": {
      "name": "python3",
      "display_name": "Python 3"
    },
    "language_info": {
      "name": "python"
    }
  },
  "cells": [
    {
      "cell_type": "markdown",
      "metadata": {
        "id": "view-in-github",
        "colab_type": "text"
      },
      "source": [
        "<a href=\"https://colab.research.google.com/github/Muhammad-Kashif-javed/Text-Preprocessing-techniques/blob/main/Text_Representation_into_Numericals(vectorization_or_Embeding).ipynb\" target=\"_parent\"><img src=\"https://colab.research.google.com/assets/colab-badge.svg\" alt=\"Open In Colab\"/></a>"
      ]
    },
    {
      "cell_type": "markdown",
      "source": [
        "# Some common terms:\n",
        "Corpus\n",
        "Vocabulary\n",
        "Document\n",
        "Word"
      ],
      "metadata": {
        "id": "QUeZSKGuxH_4"
      }
    },
    {
      "cell_type": "markdown",
      "source": [
        "# **Bag of words**\n",
        "Bag of Words (BoW) is a technique in Natural Language Processing (NLP). It is widely used to transform textual data into machine-readable format, specifically numerical values, without considering grammar and word order. Also uses fpr sentiment analysis"
      ],
      "metadata": {
        "id": "KNiVOWHHxzKR"
      }
    },
    {
      "cell_type": "code",
      "source": [
        "import numpy as np\n",
        "import pandas as pd"
      ],
      "metadata": {
        "id": "pC2k-0pkx4u_"
      },
      "execution_count": null,
      "outputs": []
    },
    {
      "cell_type": "code",
      "source": [
        "df = pd.DataFrame({\"text\":[\"people watch Kashif\",\n",
        "                         \"Kashif watch Kashif\",\n",
        "                         \"people write comment\",\n",
        "                          \"Kashif write comment\"],\"output\":[1,1,0,0]})   # 1 positive 0 Negative\n",
        "\n",
        "df"
      ],
      "metadata": {
        "colab": {
          "base_uri": "https://localhost:8080/",
          "height": 175
        },
        "id": "Fun0bU-CyHA2",
        "outputId": "6be4a858-9a24-4949-a619-176b2dfff0aa"
      },
      "execution_count": null,
      "outputs": [
        {
          "output_type": "execute_result",
          "data": {
            "text/plain": [
              "                   text  output\n",
              "0   people watch Kashif       1\n",
              "1   Kashif watch Kashif       1\n",
              "2  people write comment       0\n",
              "3  Kashif write comment       0"
            ],
            "text/html": [
              "\n",
              "  <div id=\"df-0820925e-1921-4fb4-bf35-a7b231690857\" class=\"colab-df-container\">\n",
              "    <div>\n",
              "<style scoped>\n",
              "    .dataframe tbody tr th:only-of-type {\n",
              "        vertical-align: middle;\n",
              "    }\n",
              "\n",
              "    .dataframe tbody tr th {\n",
              "        vertical-align: top;\n",
              "    }\n",
              "\n",
              "    .dataframe thead th {\n",
              "        text-align: right;\n",
              "    }\n",
              "</style>\n",
              "<table border=\"1\" class=\"dataframe\">\n",
              "  <thead>\n",
              "    <tr style=\"text-align: right;\">\n",
              "      <th></th>\n",
              "      <th>text</th>\n",
              "      <th>output</th>\n",
              "    </tr>\n",
              "  </thead>\n",
              "  <tbody>\n",
              "    <tr>\n",
              "      <th>0</th>\n",
              "      <td>people watch Kashif</td>\n",
              "      <td>1</td>\n",
              "    </tr>\n",
              "    <tr>\n",
              "      <th>1</th>\n",
              "      <td>Kashif watch Kashif</td>\n",
              "      <td>1</td>\n",
              "    </tr>\n",
              "    <tr>\n",
              "      <th>2</th>\n",
              "      <td>people write comment</td>\n",
              "      <td>0</td>\n",
              "    </tr>\n",
              "    <tr>\n",
              "      <th>3</th>\n",
              "      <td>Kashif write comment</td>\n",
              "      <td>0</td>\n",
              "    </tr>\n",
              "  </tbody>\n",
              "</table>\n",
              "</div>\n",
              "    <div class=\"colab-df-buttons\">\n",
              "\n",
              "  <div class=\"colab-df-container\">\n",
              "    <button class=\"colab-df-convert\" onclick=\"convertToInteractive('df-0820925e-1921-4fb4-bf35-a7b231690857')\"\n",
              "            title=\"Convert this dataframe to an interactive table.\"\n",
              "            style=\"display:none;\">\n",
              "\n",
              "  <svg xmlns=\"http://www.w3.org/2000/svg\" height=\"24px\" viewBox=\"0 -960 960 960\">\n",
              "    <path d=\"M120-120v-720h720v720H120Zm60-500h600v-160H180v160Zm220 220h160v-160H400v160Zm0 220h160v-160H400v160ZM180-400h160v-160H180v160Zm440 0h160v-160H620v160ZM180-180h160v-160H180v160Zm440 0h160v-160H620v160Z\"/>\n",
              "  </svg>\n",
              "    </button>\n",
              "\n",
              "  <style>\n",
              "    .colab-df-container {\n",
              "      display:flex;\n",
              "      gap: 12px;\n",
              "    }\n",
              "\n",
              "    .colab-df-convert {\n",
              "      background-color: #E8F0FE;\n",
              "      border: none;\n",
              "      border-radius: 50%;\n",
              "      cursor: pointer;\n",
              "      display: none;\n",
              "      fill: #1967D2;\n",
              "      height: 32px;\n",
              "      padding: 0 0 0 0;\n",
              "      width: 32px;\n",
              "    }\n",
              "\n",
              "    .colab-df-convert:hover {\n",
              "      background-color: #E2EBFA;\n",
              "      box-shadow: 0px 1px 2px rgba(60, 64, 67, 0.3), 0px 1px 3px 1px rgba(60, 64, 67, 0.15);\n",
              "      fill: #174EA6;\n",
              "    }\n",
              "\n",
              "    .colab-df-buttons div {\n",
              "      margin-bottom: 4px;\n",
              "    }\n",
              "\n",
              "    [theme=dark] .colab-df-convert {\n",
              "      background-color: #3B4455;\n",
              "      fill: #D2E3FC;\n",
              "    }\n",
              "\n",
              "    [theme=dark] .colab-df-convert:hover {\n",
              "      background-color: #434B5C;\n",
              "      box-shadow: 0px 1px 3px 1px rgba(0, 0, 0, 0.15);\n",
              "      filter: drop-shadow(0px 1px 2px rgba(0, 0, 0, 0.3));\n",
              "      fill: #FFFFFF;\n",
              "    }\n",
              "  </style>\n",
              "\n",
              "    <script>\n",
              "      const buttonEl =\n",
              "        document.querySelector('#df-0820925e-1921-4fb4-bf35-a7b231690857 button.colab-df-convert');\n",
              "      buttonEl.style.display =\n",
              "        google.colab.kernel.accessAllowed ? 'block' : 'none';\n",
              "\n",
              "      async function convertToInteractive(key) {\n",
              "        const element = document.querySelector('#df-0820925e-1921-4fb4-bf35-a7b231690857');\n",
              "        const dataTable =\n",
              "          await google.colab.kernel.invokeFunction('convertToInteractive',\n",
              "                                                    [key], {});\n",
              "        if (!dataTable) return;\n",
              "\n",
              "        const docLinkHtml = 'Like what you see? Visit the ' +\n",
              "          '<a target=\"_blank\" href=https://colab.research.google.com/notebooks/data_table.ipynb>data table notebook</a>'\n",
              "          + ' to learn more about interactive tables.';\n",
              "        element.innerHTML = '';\n",
              "        dataTable['output_type'] = 'display_data';\n",
              "        await google.colab.output.renderOutput(dataTable, element);\n",
              "        const docLink = document.createElement('div');\n",
              "        docLink.innerHTML = docLinkHtml;\n",
              "        element.appendChild(docLink);\n",
              "      }\n",
              "    </script>\n",
              "  </div>\n",
              "\n",
              "\n",
              "<div id=\"df-c6ce89a0-512a-414b-a7ec-62f2ed4a6b67\">\n",
              "  <button class=\"colab-df-quickchart\" onclick=\"quickchart('df-c6ce89a0-512a-414b-a7ec-62f2ed4a6b67')\"\n",
              "            title=\"Suggest charts\"\n",
              "            style=\"display:none;\">\n",
              "\n",
              "<svg xmlns=\"http://www.w3.org/2000/svg\" height=\"24px\"viewBox=\"0 0 24 24\"\n",
              "     width=\"24px\">\n",
              "    <g>\n",
              "        <path d=\"M19 3H5c-1.1 0-2 .9-2 2v14c0 1.1.9 2 2 2h14c1.1 0 2-.9 2-2V5c0-1.1-.9-2-2-2zM9 17H7v-7h2v7zm4 0h-2V7h2v10zm4 0h-2v-4h2v4z\"/>\n",
              "    </g>\n",
              "</svg>\n",
              "  </button>\n",
              "\n",
              "<style>\n",
              "  .colab-df-quickchart {\n",
              "      --bg-color: #E8F0FE;\n",
              "      --fill-color: #1967D2;\n",
              "      --hover-bg-color: #E2EBFA;\n",
              "      --hover-fill-color: #174EA6;\n",
              "      --disabled-fill-color: #AAA;\n",
              "      --disabled-bg-color: #DDD;\n",
              "  }\n",
              "\n",
              "  [theme=dark] .colab-df-quickchart {\n",
              "      --bg-color: #3B4455;\n",
              "      --fill-color: #D2E3FC;\n",
              "      --hover-bg-color: #434B5C;\n",
              "      --hover-fill-color: #FFFFFF;\n",
              "      --disabled-bg-color: #3B4455;\n",
              "      --disabled-fill-color: #666;\n",
              "  }\n",
              "\n",
              "  .colab-df-quickchart {\n",
              "    background-color: var(--bg-color);\n",
              "    border: none;\n",
              "    border-radius: 50%;\n",
              "    cursor: pointer;\n",
              "    display: none;\n",
              "    fill: var(--fill-color);\n",
              "    height: 32px;\n",
              "    padding: 0;\n",
              "    width: 32px;\n",
              "  }\n",
              "\n",
              "  .colab-df-quickchart:hover {\n",
              "    background-color: var(--hover-bg-color);\n",
              "    box-shadow: 0 1px 2px rgba(60, 64, 67, 0.3), 0 1px 3px 1px rgba(60, 64, 67, 0.15);\n",
              "    fill: var(--button-hover-fill-color);\n",
              "  }\n",
              "\n",
              "  .colab-df-quickchart-complete:disabled,\n",
              "  .colab-df-quickchart-complete:disabled:hover {\n",
              "    background-color: var(--disabled-bg-color);\n",
              "    fill: var(--disabled-fill-color);\n",
              "    box-shadow: none;\n",
              "  }\n",
              "\n",
              "  .colab-df-spinner {\n",
              "    border: 2px solid var(--fill-color);\n",
              "    border-color: transparent;\n",
              "    border-bottom-color: var(--fill-color);\n",
              "    animation:\n",
              "      spin 1s steps(1) infinite;\n",
              "  }\n",
              "\n",
              "  @keyframes spin {\n",
              "    0% {\n",
              "      border-color: transparent;\n",
              "      border-bottom-color: var(--fill-color);\n",
              "      border-left-color: var(--fill-color);\n",
              "    }\n",
              "    20% {\n",
              "      border-color: transparent;\n",
              "      border-left-color: var(--fill-color);\n",
              "      border-top-color: var(--fill-color);\n",
              "    }\n",
              "    30% {\n",
              "      border-color: transparent;\n",
              "      border-left-color: var(--fill-color);\n",
              "      border-top-color: var(--fill-color);\n",
              "      border-right-color: var(--fill-color);\n",
              "    }\n",
              "    40% {\n",
              "      border-color: transparent;\n",
              "      border-right-color: var(--fill-color);\n",
              "      border-top-color: var(--fill-color);\n",
              "    }\n",
              "    60% {\n",
              "      border-color: transparent;\n",
              "      border-right-color: var(--fill-color);\n",
              "    }\n",
              "    80% {\n",
              "      border-color: transparent;\n",
              "      border-right-color: var(--fill-color);\n",
              "      border-bottom-color: var(--fill-color);\n",
              "    }\n",
              "    90% {\n",
              "      border-color: transparent;\n",
              "      border-bottom-color: var(--fill-color);\n",
              "    }\n",
              "  }\n",
              "</style>\n",
              "\n",
              "  <script>\n",
              "    async function quickchart(key) {\n",
              "      const quickchartButtonEl =\n",
              "        document.querySelector('#' + key + ' button');\n",
              "      quickchartButtonEl.disabled = true;  // To prevent multiple clicks.\n",
              "      quickchartButtonEl.classList.add('colab-df-spinner');\n",
              "      try {\n",
              "        const charts = await google.colab.kernel.invokeFunction(\n",
              "            'suggestCharts', [key], {});\n",
              "      } catch (error) {\n",
              "        console.error('Error during call to suggestCharts:', error);\n",
              "      }\n",
              "      quickchartButtonEl.classList.remove('colab-df-spinner');\n",
              "      quickchartButtonEl.classList.add('colab-df-quickchart-complete');\n",
              "    }\n",
              "    (() => {\n",
              "      let quickchartButtonEl =\n",
              "        document.querySelector('#df-c6ce89a0-512a-414b-a7ec-62f2ed4a6b67 button');\n",
              "      quickchartButtonEl.style.display =\n",
              "        google.colab.kernel.accessAllowed ? 'block' : 'none';\n",
              "    })();\n",
              "  </script>\n",
              "</div>\n",
              "\n",
              "  <div id=\"id_c61b0c4e-059d-403d-9716-9467b8bf52d8\">\n",
              "    <style>\n",
              "      .colab-df-generate {\n",
              "        background-color: #E8F0FE;\n",
              "        border: none;\n",
              "        border-radius: 50%;\n",
              "        cursor: pointer;\n",
              "        display: none;\n",
              "        fill: #1967D2;\n",
              "        height: 32px;\n",
              "        padding: 0 0 0 0;\n",
              "        width: 32px;\n",
              "      }\n",
              "\n",
              "      .colab-df-generate:hover {\n",
              "        background-color: #E2EBFA;\n",
              "        box-shadow: 0px 1px 2px rgba(60, 64, 67, 0.3), 0px 1px 3px 1px rgba(60, 64, 67, 0.15);\n",
              "        fill: #174EA6;\n",
              "      }\n",
              "\n",
              "      [theme=dark] .colab-df-generate {\n",
              "        background-color: #3B4455;\n",
              "        fill: #D2E3FC;\n",
              "      }\n",
              "\n",
              "      [theme=dark] .colab-df-generate:hover {\n",
              "        background-color: #434B5C;\n",
              "        box-shadow: 0px 1px 3px 1px rgba(0, 0, 0, 0.15);\n",
              "        filter: drop-shadow(0px 1px 2px rgba(0, 0, 0, 0.3));\n",
              "        fill: #FFFFFF;\n",
              "      }\n",
              "    </style>\n",
              "    <button class=\"colab-df-generate\" onclick=\"generateWithVariable('df')\"\n",
              "            title=\"Generate code using this dataframe.\"\n",
              "            style=\"display:none;\">\n",
              "\n",
              "  <svg xmlns=\"http://www.w3.org/2000/svg\" height=\"24px\"viewBox=\"0 0 24 24\"\n",
              "       width=\"24px\">\n",
              "    <path d=\"M7,19H8.4L18.45,9,17,7.55,7,17.6ZM5,21V16.75L18.45,3.32a2,2,0,0,1,2.83,0l1.4,1.43a1.91,1.91,0,0,1,.58,1.4,1.91,1.91,0,0,1-.58,1.4L9.25,21ZM18.45,9,17,7.55Zm-12,3A5.31,5.31,0,0,0,4.9,8.1,5.31,5.31,0,0,0,1,6.5,5.31,5.31,0,0,0,4.9,4.9,5.31,5.31,0,0,0,6.5,1,5.31,5.31,0,0,0,8.1,4.9,5.31,5.31,0,0,0,12,6.5,5.46,5.46,0,0,0,6.5,12Z\"/>\n",
              "  </svg>\n",
              "    </button>\n",
              "    <script>\n",
              "      (() => {\n",
              "      const buttonEl =\n",
              "        document.querySelector('#id_c61b0c4e-059d-403d-9716-9467b8bf52d8 button.colab-df-generate');\n",
              "      buttonEl.style.display =\n",
              "        google.colab.kernel.accessAllowed ? 'block' : 'none';\n",
              "\n",
              "      buttonEl.onclick = () => {\n",
              "        google.colab.notebook.generateWithVariable('df');\n",
              "      }\n",
              "      })();\n",
              "    </script>\n",
              "  </div>\n",
              "\n",
              "    </div>\n",
              "  </div>\n"
            ],
            "application/vnd.google.colaboratory.intrinsic+json": {
              "type": "dataframe",
              "variable_name": "df",
              "summary": "{\n  \"name\": \"df\",\n  \"rows\": 4,\n  \"fields\": [\n    {\n      \"column\": \"text\",\n      \"properties\": {\n        \"dtype\": \"string\",\n        \"num_unique_values\": 4,\n        \"samples\": [\n          \"Kashif watch Kashif\",\n          \"Kashif write comment\",\n          \"people watch Kashif\"\n        ],\n        \"semantic_type\": \"\",\n        \"description\": \"\"\n      }\n    },\n    {\n      \"column\": \"output\",\n      \"properties\": {\n        \"dtype\": \"number\",\n        \"std\": 0,\n        \"min\": 0,\n        \"max\": 1,\n        \"num_unique_values\": 2,\n        \"samples\": [\n          0,\n          1\n        ],\n        \"semantic_type\": \"\",\n        \"description\": \"\"\n      }\n    }\n  ]\n}"
            }
          },
          "metadata": {},
          "execution_count": 3
        }
      ]
    },
    {
      "cell_type": "code",
      "source": [
        "from sklearn.feature_extraction.text import CountVectorizer\n",
        "cv = CountVectorizer()   # how much you words have i.e. count"
      ],
      "metadata": {
        "id": "xg1WUyC5zWst"
      },
      "execution_count": null,
      "outputs": []
    },
    {
      "cell_type": "code",
      "source": [
        "bow = cv.fit_transform(df['text'])  # fit my text data"
      ],
      "metadata": {
        "id": "GhoxiuwazjC3"
      },
      "execution_count": null,
      "outputs": []
    },
    {
      "cell_type": "code",
      "source": [
        "#vocabulary\n",
        "print(cv.vocabulary_)   # assing index number with all of words o is first 1 is second  and so on..."
      ],
      "metadata": {
        "colab": {
          "base_uri": "https://localhost:8080/"
        },
        "id": "Q9hNy7Ngzu3-",
        "outputId": "ff0328b7-ab13-428a-c97c-4ae4921206f7"
      },
      "execution_count": null,
      "outputs": [
        {
          "output_type": "stream",
          "name": "stdout",
          "text": [
            "{'people': 2, 'watch': 3, 'kashif': 1, 'write': 4, 'comment': 0}\n"
          ]
        }
      ]
    },
    {
      "cell_type": "code",
      "source": [
        "bow.toarray()"
      ],
      "metadata": {
        "colab": {
          "base_uri": "https://localhost:8080/"
        },
        "id": "rVtY1WHp0vtf",
        "outputId": "6e4ad1cd-6c14-4b0e-8efc-f4d2bd68e90d"
      },
      "execution_count": null,
      "outputs": [
        {
          "output_type": "execute_result",
          "data": {
            "text/plain": [
              "array([[0, 1, 1, 1, 0],\n",
              "       [0, 2, 0, 1, 0],\n",
              "       [1, 0, 1, 0, 1],\n",
              "       [1, 1, 0, 0, 1]])"
            ]
          },
          "metadata": {},
          "execution_count": 7
        }
      ]
    },
    {
      "cell_type": "code",
      "source": [
        "bow"
      ],
      "metadata": {
        "colab": {
          "base_uri": "https://localhost:8080/"
        },
        "id": "C6l-il0d2l0q",
        "outputId": "e3def200-6a67-49f2-c079-92cee9fc5efe"
      },
      "execution_count": null,
      "outputs": [
        {
          "output_type": "execute_result",
          "data": {
            "text/plain": [
              "<4x5 sparse matrix of type '<class 'numpy.int64'>'\n",
              "\twith 11 stored elements in Compressed Sparse Row format>"
            ]
          },
          "metadata": {},
          "execution_count": 9
        }
      ]
    },
    {
      "cell_type": "code",
      "source": [
        "print(bow[0].toarray())\n",
        "print(bow[1].toarray())\n",
        "print(bow[2].toarray())"
      ],
      "metadata": {
        "colab": {
          "base_uri": "https://localhost:8080/"
        },
        "id": "QR9AyV4g2cVp",
        "outputId": "ac987df2-8b2c-48d3-d229-cf9ca97cb2e7"
      },
      "execution_count": null,
      "outputs": [
        {
          "output_type": "stream",
          "name": "stdout",
          "text": [
            "[[0 1 1 1 0]]\n",
            "[[0 2 0 1 0]]\n",
            "[[1 0 1 0 1]]\n"
          ]
        }
      ]
    },
    {
      "cell_type": "code",
      "source": [
        "# new\n",
        "cv.transform(['Kashif watch kashifjaved']).toarray()"
      ],
      "metadata": {
        "colab": {
          "base_uri": "https://localhost:8080/"
        },
        "id": "sPbfbDUc3V9D",
        "outputId": "e8afc473-8103-42e0-ebf0-3724b5fe1546"
      },
      "execution_count": null,
      "outputs": [
        {
          "output_type": "execute_result",
          "data": {
            "text/plain": [
              "array([[0, 1, 0, 1, 0]])"
            ]
          },
          "metadata": {},
          "execution_count": 10
        }
      ]
    },
    {
      "cell_type": "code",
      "source": [
        "X = bow.toarray() # Input give you model\n",
        "y = df['output'] # out put"
      ],
      "metadata": {
        "id": "9UtXJqh74ioA"
      },
      "execution_count": null,
      "outputs": []
    },
    {
      "cell_type": "markdown",
      "source": [
        "# N-**grams**\n",
        " is a sequence of two words,  for example  pepople watch in one token,Pair of word in one token.\n",
        " if N-gram = 3 three words in one token"
      ],
      "metadata": {
        "id": "Y8elao-e4w41"
      }
    },
    {
      "cell_type": "code",
      "source": [
        "df = pd.DataFrame({\"text\":[\"people watch Kashif\",\n",
        "                         \"Kashif watch Kashif\",\n",
        "                         \"people write comment\",\n",
        "                          \"Kashif write comment\"],\"output\":[1,1,0,0]})   # 1 positive 0 Negative\n",
        "\n",
        "df"
      ],
      "metadata": {
        "colab": {
          "base_uri": "https://localhost:8080/",
          "height": 175
        },
        "id": "ILV2Hkw-446D",
        "outputId": "798e176b-23c7-4cc0-b190-356af0329238"
      },
      "execution_count": null,
      "outputs": [
        {
          "output_type": "execute_result",
          "data": {
            "text/plain": [
              "                   text  output\n",
              "0   people watch Kashif       1\n",
              "1   Kashif watch Kashif       1\n",
              "2  people write comment       0\n",
              "3  Kashif write comment       0"
            ],
            "text/html": [
              "\n",
              "  <div id=\"df-dd4efc61-b88b-4952-92a4-1220bc6e126e\" class=\"colab-df-container\">\n",
              "    <div>\n",
              "<style scoped>\n",
              "    .dataframe tbody tr th:only-of-type {\n",
              "        vertical-align: middle;\n",
              "    }\n",
              "\n",
              "    .dataframe tbody tr th {\n",
              "        vertical-align: top;\n",
              "    }\n",
              "\n",
              "    .dataframe thead th {\n",
              "        text-align: right;\n",
              "    }\n",
              "</style>\n",
              "<table border=\"1\" class=\"dataframe\">\n",
              "  <thead>\n",
              "    <tr style=\"text-align: right;\">\n",
              "      <th></th>\n",
              "      <th>text</th>\n",
              "      <th>output</th>\n",
              "    </tr>\n",
              "  </thead>\n",
              "  <tbody>\n",
              "    <tr>\n",
              "      <th>0</th>\n",
              "      <td>people watch Kashif</td>\n",
              "      <td>1</td>\n",
              "    </tr>\n",
              "    <tr>\n",
              "      <th>1</th>\n",
              "      <td>Kashif watch Kashif</td>\n",
              "      <td>1</td>\n",
              "    </tr>\n",
              "    <tr>\n",
              "      <th>2</th>\n",
              "      <td>people write comment</td>\n",
              "      <td>0</td>\n",
              "    </tr>\n",
              "    <tr>\n",
              "      <th>3</th>\n",
              "      <td>Kashif write comment</td>\n",
              "      <td>0</td>\n",
              "    </tr>\n",
              "  </tbody>\n",
              "</table>\n",
              "</div>\n",
              "    <div class=\"colab-df-buttons\">\n",
              "\n",
              "  <div class=\"colab-df-container\">\n",
              "    <button class=\"colab-df-convert\" onclick=\"convertToInteractive('df-dd4efc61-b88b-4952-92a4-1220bc6e126e')\"\n",
              "            title=\"Convert this dataframe to an interactive table.\"\n",
              "            style=\"display:none;\">\n",
              "\n",
              "  <svg xmlns=\"http://www.w3.org/2000/svg\" height=\"24px\" viewBox=\"0 -960 960 960\">\n",
              "    <path d=\"M120-120v-720h720v720H120Zm60-500h600v-160H180v160Zm220 220h160v-160H400v160Zm0 220h160v-160H400v160ZM180-400h160v-160H180v160Zm440 0h160v-160H620v160ZM180-180h160v-160H180v160Zm440 0h160v-160H620v160Z\"/>\n",
              "  </svg>\n",
              "    </button>\n",
              "\n",
              "  <style>\n",
              "    .colab-df-container {\n",
              "      display:flex;\n",
              "      gap: 12px;\n",
              "    }\n",
              "\n",
              "    .colab-df-convert {\n",
              "      background-color: #E8F0FE;\n",
              "      border: none;\n",
              "      border-radius: 50%;\n",
              "      cursor: pointer;\n",
              "      display: none;\n",
              "      fill: #1967D2;\n",
              "      height: 32px;\n",
              "      padding: 0 0 0 0;\n",
              "      width: 32px;\n",
              "    }\n",
              "\n",
              "    .colab-df-convert:hover {\n",
              "      background-color: #E2EBFA;\n",
              "      box-shadow: 0px 1px 2px rgba(60, 64, 67, 0.3), 0px 1px 3px 1px rgba(60, 64, 67, 0.15);\n",
              "      fill: #174EA6;\n",
              "    }\n",
              "\n",
              "    .colab-df-buttons div {\n",
              "      margin-bottom: 4px;\n",
              "    }\n",
              "\n",
              "    [theme=dark] .colab-df-convert {\n",
              "      background-color: #3B4455;\n",
              "      fill: #D2E3FC;\n",
              "    }\n",
              "\n",
              "    [theme=dark] .colab-df-convert:hover {\n",
              "      background-color: #434B5C;\n",
              "      box-shadow: 0px 1px 3px 1px rgba(0, 0, 0, 0.15);\n",
              "      filter: drop-shadow(0px 1px 2px rgba(0, 0, 0, 0.3));\n",
              "      fill: #FFFFFF;\n",
              "    }\n",
              "  </style>\n",
              "\n",
              "    <script>\n",
              "      const buttonEl =\n",
              "        document.querySelector('#df-dd4efc61-b88b-4952-92a4-1220bc6e126e button.colab-df-convert');\n",
              "      buttonEl.style.display =\n",
              "        google.colab.kernel.accessAllowed ? 'block' : 'none';\n",
              "\n",
              "      async function convertToInteractive(key) {\n",
              "        const element = document.querySelector('#df-dd4efc61-b88b-4952-92a4-1220bc6e126e');\n",
              "        const dataTable =\n",
              "          await google.colab.kernel.invokeFunction('convertToInteractive',\n",
              "                                                    [key], {});\n",
              "        if (!dataTable) return;\n",
              "\n",
              "        const docLinkHtml = 'Like what you see? Visit the ' +\n",
              "          '<a target=\"_blank\" href=https://colab.research.google.com/notebooks/data_table.ipynb>data table notebook</a>'\n",
              "          + ' to learn more about interactive tables.';\n",
              "        element.innerHTML = '';\n",
              "        dataTable['output_type'] = 'display_data';\n",
              "        await google.colab.output.renderOutput(dataTable, element);\n",
              "        const docLink = document.createElement('div');\n",
              "        docLink.innerHTML = docLinkHtml;\n",
              "        element.appendChild(docLink);\n",
              "      }\n",
              "    </script>\n",
              "  </div>\n",
              "\n",
              "\n",
              "<div id=\"df-15a45b8e-babb-424d-9726-6ad12825fe89\">\n",
              "  <button class=\"colab-df-quickchart\" onclick=\"quickchart('df-15a45b8e-babb-424d-9726-6ad12825fe89')\"\n",
              "            title=\"Suggest charts\"\n",
              "            style=\"display:none;\">\n",
              "\n",
              "<svg xmlns=\"http://www.w3.org/2000/svg\" height=\"24px\"viewBox=\"0 0 24 24\"\n",
              "     width=\"24px\">\n",
              "    <g>\n",
              "        <path d=\"M19 3H5c-1.1 0-2 .9-2 2v14c0 1.1.9 2 2 2h14c1.1 0 2-.9 2-2V5c0-1.1-.9-2-2-2zM9 17H7v-7h2v7zm4 0h-2V7h2v10zm4 0h-2v-4h2v4z\"/>\n",
              "    </g>\n",
              "</svg>\n",
              "  </button>\n",
              "\n",
              "<style>\n",
              "  .colab-df-quickchart {\n",
              "      --bg-color: #E8F0FE;\n",
              "      --fill-color: #1967D2;\n",
              "      --hover-bg-color: #E2EBFA;\n",
              "      --hover-fill-color: #174EA6;\n",
              "      --disabled-fill-color: #AAA;\n",
              "      --disabled-bg-color: #DDD;\n",
              "  }\n",
              "\n",
              "  [theme=dark] .colab-df-quickchart {\n",
              "      --bg-color: #3B4455;\n",
              "      --fill-color: #D2E3FC;\n",
              "      --hover-bg-color: #434B5C;\n",
              "      --hover-fill-color: #FFFFFF;\n",
              "      --disabled-bg-color: #3B4455;\n",
              "      --disabled-fill-color: #666;\n",
              "  }\n",
              "\n",
              "  .colab-df-quickchart {\n",
              "    background-color: var(--bg-color);\n",
              "    border: none;\n",
              "    border-radius: 50%;\n",
              "    cursor: pointer;\n",
              "    display: none;\n",
              "    fill: var(--fill-color);\n",
              "    height: 32px;\n",
              "    padding: 0;\n",
              "    width: 32px;\n",
              "  }\n",
              "\n",
              "  .colab-df-quickchart:hover {\n",
              "    background-color: var(--hover-bg-color);\n",
              "    box-shadow: 0 1px 2px rgba(60, 64, 67, 0.3), 0 1px 3px 1px rgba(60, 64, 67, 0.15);\n",
              "    fill: var(--button-hover-fill-color);\n",
              "  }\n",
              "\n",
              "  .colab-df-quickchart-complete:disabled,\n",
              "  .colab-df-quickchart-complete:disabled:hover {\n",
              "    background-color: var(--disabled-bg-color);\n",
              "    fill: var(--disabled-fill-color);\n",
              "    box-shadow: none;\n",
              "  }\n",
              "\n",
              "  .colab-df-spinner {\n",
              "    border: 2px solid var(--fill-color);\n",
              "    border-color: transparent;\n",
              "    border-bottom-color: var(--fill-color);\n",
              "    animation:\n",
              "      spin 1s steps(1) infinite;\n",
              "  }\n",
              "\n",
              "  @keyframes spin {\n",
              "    0% {\n",
              "      border-color: transparent;\n",
              "      border-bottom-color: var(--fill-color);\n",
              "      border-left-color: var(--fill-color);\n",
              "    }\n",
              "    20% {\n",
              "      border-color: transparent;\n",
              "      border-left-color: var(--fill-color);\n",
              "      border-top-color: var(--fill-color);\n",
              "    }\n",
              "    30% {\n",
              "      border-color: transparent;\n",
              "      border-left-color: var(--fill-color);\n",
              "      border-top-color: var(--fill-color);\n",
              "      border-right-color: var(--fill-color);\n",
              "    }\n",
              "    40% {\n",
              "      border-color: transparent;\n",
              "      border-right-color: var(--fill-color);\n",
              "      border-top-color: var(--fill-color);\n",
              "    }\n",
              "    60% {\n",
              "      border-color: transparent;\n",
              "      border-right-color: var(--fill-color);\n",
              "    }\n",
              "    80% {\n",
              "      border-color: transparent;\n",
              "      border-right-color: var(--fill-color);\n",
              "      border-bottom-color: var(--fill-color);\n",
              "    }\n",
              "    90% {\n",
              "      border-color: transparent;\n",
              "      border-bottom-color: var(--fill-color);\n",
              "    }\n",
              "  }\n",
              "</style>\n",
              "\n",
              "  <script>\n",
              "    async function quickchart(key) {\n",
              "      const quickchartButtonEl =\n",
              "        document.querySelector('#' + key + ' button');\n",
              "      quickchartButtonEl.disabled = true;  // To prevent multiple clicks.\n",
              "      quickchartButtonEl.classList.add('colab-df-spinner');\n",
              "      try {\n",
              "        const charts = await google.colab.kernel.invokeFunction(\n",
              "            'suggestCharts', [key], {});\n",
              "      } catch (error) {\n",
              "        console.error('Error during call to suggestCharts:', error);\n",
              "      }\n",
              "      quickchartButtonEl.classList.remove('colab-df-spinner');\n",
              "      quickchartButtonEl.classList.add('colab-df-quickchart-complete');\n",
              "    }\n",
              "    (() => {\n",
              "      let quickchartButtonEl =\n",
              "        document.querySelector('#df-15a45b8e-babb-424d-9726-6ad12825fe89 button');\n",
              "      quickchartButtonEl.style.display =\n",
              "        google.colab.kernel.accessAllowed ? 'block' : 'none';\n",
              "    })();\n",
              "  </script>\n",
              "</div>\n",
              "\n",
              "  <div id=\"id_d8708d61-694a-4a36-bfb2-1eb1065d8f89\">\n",
              "    <style>\n",
              "      .colab-df-generate {\n",
              "        background-color: #E8F0FE;\n",
              "        border: none;\n",
              "        border-radius: 50%;\n",
              "        cursor: pointer;\n",
              "        display: none;\n",
              "        fill: #1967D2;\n",
              "        height: 32px;\n",
              "        padding: 0 0 0 0;\n",
              "        width: 32px;\n",
              "      }\n",
              "\n",
              "      .colab-df-generate:hover {\n",
              "        background-color: #E2EBFA;\n",
              "        box-shadow: 0px 1px 2px rgba(60, 64, 67, 0.3), 0px 1px 3px 1px rgba(60, 64, 67, 0.15);\n",
              "        fill: #174EA6;\n",
              "      }\n",
              "\n",
              "      [theme=dark] .colab-df-generate {\n",
              "        background-color: #3B4455;\n",
              "        fill: #D2E3FC;\n",
              "      }\n",
              "\n",
              "      [theme=dark] .colab-df-generate:hover {\n",
              "        background-color: #434B5C;\n",
              "        box-shadow: 0px 1px 3px 1px rgba(0, 0, 0, 0.15);\n",
              "        filter: drop-shadow(0px 1px 2px rgba(0, 0, 0, 0.3));\n",
              "        fill: #FFFFFF;\n",
              "      }\n",
              "    </style>\n",
              "    <button class=\"colab-df-generate\" onclick=\"generateWithVariable('df')\"\n",
              "            title=\"Generate code using this dataframe.\"\n",
              "            style=\"display:none;\">\n",
              "\n",
              "  <svg xmlns=\"http://www.w3.org/2000/svg\" height=\"24px\"viewBox=\"0 0 24 24\"\n",
              "       width=\"24px\">\n",
              "    <path d=\"M7,19H8.4L18.45,9,17,7.55,7,17.6ZM5,21V16.75L18.45,3.32a2,2,0,0,1,2.83,0l1.4,1.43a1.91,1.91,0,0,1,.58,1.4,1.91,1.91,0,0,1-.58,1.4L9.25,21ZM18.45,9,17,7.55Zm-12,3A5.31,5.31,0,0,0,4.9,8.1,5.31,5.31,0,0,0,1,6.5,5.31,5.31,0,0,0,4.9,4.9,5.31,5.31,0,0,0,6.5,1,5.31,5.31,0,0,0,8.1,4.9,5.31,5.31,0,0,0,12,6.5,5.46,5.46,0,0,0,6.5,12Z\"/>\n",
              "  </svg>\n",
              "    </button>\n",
              "    <script>\n",
              "      (() => {\n",
              "      const buttonEl =\n",
              "        document.querySelector('#id_d8708d61-694a-4a36-bfb2-1eb1065d8f89 button.colab-df-generate');\n",
              "      buttonEl.style.display =\n",
              "        google.colab.kernel.accessAllowed ? 'block' : 'none';\n",
              "\n",
              "      buttonEl.onclick = () => {\n",
              "        google.colab.notebook.generateWithVariable('df');\n",
              "      }\n",
              "      })();\n",
              "    </script>\n",
              "  </div>\n",
              "\n",
              "    </div>\n",
              "  </div>\n"
            ],
            "application/vnd.google.colaboratory.intrinsic+json": {
              "type": "dataframe",
              "variable_name": "df",
              "summary": "{\n  \"name\": \"df\",\n  \"rows\": 4,\n  \"fields\": [\n    {\n      \"column\": \"text\",\n      \"properties\": {\n        \"dtype\": \"string\",\n        \"num_unique_values\": 4,\n        \"samples\": [\n          \"Kashif watch Kashif\",\n          \"Kashif write comment\",\n          \"people watch Kashif\"\n        ],\n        \"semantic_type\": \"\",\n        \"description\": \"\"\n      }\n    },\n    {\n      \"column\": \"output\",\n      \"properties\": {\n        \"dtype\": \"number\",\n        \"std\": 0,\n        \"min\": 0,\n        \"max\": 1,\n        \"num_unique_values\": 2,\n        \"samples\": [\n          0,\n          1\n        ],\n        \"semantic_type\": \"\",\n        \"description\": \"\"\n      }\n    }\n  ]\n}"
            }
          },
          "metadata": {},
          "execution_count": 17
        }
      ]
    },
    {
      "cell_type": "code",
      "source": [
        "# BI grams\n",
        "from sklearn.feature_extraction.text import CountVectorizer\n",
        "cv = CountVectorizer(ngram_range=(2,2))"
      ],
      "metadata": {
        "id": "po3l1Q9y6ftZ"
      },
      "execution_count": null,
      "outputs": []
    },
    {
      "cell_type": "code",
      "source": [
        "bow = cv.fit_transform(df['text'])"
      ],
      "metadata": {
        "id": "jqiSSqhD6oL7"
      },
      "execution_count": null,
      "outputs": []
    },
    {
      "cell_type": "code",
      "source": [
        "print(cv.vocabulary_)"
      ],
      "metadata": {
        "colab": {
          "base_uri": "https://localhost:8080/"
        },
        "id": "wsEgIOsJ6tWh",
        "outputId": "64a5da60-b79d-461c-9926-53259fde4b1f"
      },
      "execution_count": null,
      "outputs": [
        {
          "output_type": "stream",
          "name": "stdout",
          "text": [
            "{'people watch': 2, 'watch kashif': 4, 'kashif watch': 0, 'people write': 3, 'write comment': 5, 'kashif write': 1}\n"
          ]
        }
      ]
    },
    {
      "cell_type": "code",
      "source": [
        "print(bow[0].toarray())\n",
        "print(bow[1].toarray())\n",
        "print(bow[2].toarray())"
      ],
      "metadata": {
        "colab": {
          "base_uri": "https://localhost:8080/"
        },
        "id": "uQHvQRuh7Jj5",
        "outputId": "aeb4bdef-c63d-470b-c7e0-fb898bf63d05"
      },
      "execution_count": null,
      "outputs": [
        {
          "output_type": "stream",
          "name": "stdout",
          "text": [
            "[[0 0 1 0 1 0]]\n",
            "[[1 0 0 0 1 0]]\n",
            "[[0 0 0 1 0 1]]\n"
          ]
        }
      ]
    },
    {
      "cell_type": "code",
      "source": [
        "#Ti gram\n",
        "# BI grams\n",
        "from sklearn.feature_extraction.text import CountVectorizer\n",
        "cv = CountVectorizer(ngram_range=(3,3))"
      ],
      "metadata": {
        "id": "jZ_jA4Tg7P0Y"
      },
      "execution_count": null,
      "outputs": []
    },
    {
      "cell_type": "code",
      "source": [
        "bow = cv.fit_transform(df['text'])"
      ],
      "metadata": {
        "id": "MHaqflFZ7TiK"
      },
      "execution_count": null,
      "outputs": []
    },
    {
      "cell_type": "code",
      "source": [
        "print(cv.vocabulary_)"
      ],
      "metadata": {
        "colab": {
          "base_uri": "https://localhost:8080/"
        },
        "id": "twW8j9v97car",
        "outputId": "df0185c1-0746-42df-e2c4-a4457970165a"
      },
      "execution_count": null,
      "outputs": [
        {
          "output_type": "stream",
          "name": "stdout",
          "text": [
            "{'people watch kashif': 2, 'kashif watch kashif': 0, 'people write comment': 3, 'kashif write comment': 1}\n"
          ]
        }
      ]
    },
    {
      "cell_type": "code",
      "source": [
        "print(bow[0].toarray())\n",
        "print(bow[1].toarray())\n",
        "print(bow[2].toarray())"
      ],
      "metadata": {
        "colab": {
          "base_uri": "https://localhost:8080/"
        },
        "id": "pCWlOKi07Zqi",
        "outputId": "c5363e6b-1439-4e94-890a-207e20d70acd"
      },
      "execution_count": null,
      "outputs": [
        {
          "output_type": "stream",
          "name": "stdout",
          "text": [
            "[[0 0 1 0]]\n",
            "[[1 0 0 0]]\n",
            "[[0 0 0 1]]\n"
          ]
        }
      ]
    },
    {
      "cell_type": "code",
      "source": [],
      "metadata": {
        "id": "-kgwUpoQ-NSh"
      },
      "execution_count": null,
      "outputs": []
    },
    {
      "cell_type": "markdown",
      "source": [
        "# TF-IDF (Term frequency- Inverse document frequency)\n",
        "The number of times a word appears in a document.\n",
        "Inverse Document Frequency (IDF) is a weight indicating how commonly a word is used.\n",
        "followed formula...."
      ],
      "metadata": {
        "id": "M5O0yHpf9bRK"
      }
    },
    {
      "cell_type": "code",
      "source": [
        "df = pd.DataFrame({\"text\":[\"people watch Kashif\",\n",
        "                         \"Kashif watch Kashif\",\n",
        "                         \"people write comment\",\n",
        "                          \"Kashif write comment\"],\"output\":[1,1,0,0]})   # 1 positive 0 Negative"
      ],
      "metadata": {
        "id": "Htt7GNXW-va4"
      },
      "execution_count": null,
      "outputs": []
    },
    {
      "cell_type": "code",
      "source": [
        "from sklearn.feature_extraction.text import TfidfVectorizer\n",
        "tfid= TfidfVectorizer()"
      ],
      "metadata": {
        "id": "ynLpX9TB-z4J"
      },
      "execution_count": null,
      "outputs": []
    },
    {
      "cell_type": "code",
      "source": [
        "arr = tfid.fit_transform(df['text']).toarray()"
      ],
      "metadata": {
        "id": "yMXFhnYl-3tQ"
      },
      "execution_count": null,
      "outputs": []
    },
    {
      "cell_type": "code",
      "source": [
        "arr"
      ],
      "metadata": {
        "colab": {
          "base_uri": "https://localhost:8080/"
        },
        "id": "WnwRhI66-9Bg",
        "outputId": "3e383ef8-a4fb-4d2e-91db-80c306ad1457"
      },
      "execution_count": null,
      "outputs": [
        {
          "output_type": "execute_result",
          "data": {
            "text/plain": [
              "array([[0.        , 0.49681612, 0.61366674, 0.61366674, 0.        ],\n",
              "       [0.        , 0.8508161 , 0.        , 0.52546357, 0.        ],\n",
              "       [0.57735027, 0.        , 0.57735027, 0.        , 0.57735027],\n",
              "       [0.61366674, 0.49681612, 0.        , 0.        , 0.61366674]])"
            ]
          },
          "metadata": {},
          "execution_count": 29
        }
      ]
    },
    {
      "cell_type": "code",
      "source": [
        "print(tfid.idf_)"
      ],
      "metadata": {
        "colab": {
          "base_uri": "https://localhost:8080/"
        },
        "id": "w7vt87pH_J5Y",
        "outputId": "1b116b56-c8b8-44db-a305-a52dd22d5d48"
      },
      "execution_count": null,
      "outputs": [
        {
          "output_type": "stream",
          "name": "stdout",
          "text": [
            "[1.51082562 1.22314355 1.51082562 1.51082562 1.51082562]\n"
          ]
        }
      ]
    },
    {
      "cell_type": "markdown",
      "source": [
        "\n",
        "TF-IDF (Term frequency- Inverse document frequency) formula"
      ],
      "metadata": {
        "id": "MdEsSZIB_ycR"
      }
    },
    {
      "cell_type": "markdown",
      "source": [
        "![Screenshot 2024-11-11 162452.png](data:image/png;base64,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)"
      ],
      "metadata": {
        "id": "plpHajHZ_seH"
      }
    },
    {
      "cell_type": "markdown",
      "source": [],
      "metadata": {
        "id": "Vfj4TFj6_Vc4"
      }
    }
  ]
}